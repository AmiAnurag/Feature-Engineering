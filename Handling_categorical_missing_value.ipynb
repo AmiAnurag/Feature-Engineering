{
  "nbformat": 4,
  "nbformat_minor": 0,
  "metadata": {
    "colab": {
      "name": "Handling categorical missing value.ipynb",
      "provenance": [],
      "mount_file_id": "192XCXgBwDtfuVYJbqsSj4RtNrJLAbCUy",
      "authorship_tag": "ABX9TyM90wJlJVrIphumfr02pWwE",
      "include_colab_link": true
    },
    "kernelspec": {
      "name": "python3",
      "display_name": "Python 3"
    },
    "language_info": {
      "name": "python"
    }
  },
  "cells": [
    {
      "cell_type": "markdown",
      "metadata": {
        "id": "view-in-github",
        "colab_type": "text"
      },
      "source": [
        "<a href=\"https://colab.research.google.com/github/AmiAnurag/Feature-Engineering/blob/main/Handling_categorical_missing_value.ipynb\" target=\"_parent\"><img src=\"https://colab.research.google.com/assets/colab-badge.svg\" alt=\"Open In Colab\"/></a>"
      ]
    },
    {
      "cell_type": "code",
      "metadata": {
        "id": "13ZHDTjvjVA4"
      },
      "source": [
        "import pandas as pd\n",
        "import numpy as np\n",
        "import matplotlib.pyplot as plt\n",
        "import seaborn as sns\n",
        "from sklearn.model_selection import train_test_split\n",
        "from sklearn.metrics import mean_absolute_error\n",
        "import math"
      ],
      "execution_count": 1,
      "outputs": []
    },
    {
      "cell_type": "code",
      "metadata": {
        "colab": {
          "base_uri": "https://localhost:8080/",
          "height": 204
        },
        "id": "WNhV2bF7CxPQ",
        "outputId": "2f8dc24b-5e41-430a-d343-a4082ccb1ec1"
      },
      "source": [
        "df=pd.read_csv(\"/content/drive/MyDrive/DataSets/advance house prediction data.csv\",usecols=['GarageType','BsmtQual','GarageQual','SalePrice'])\n",
        "df.head()"
      ],
      "execution_count": 2,
      "outputs": [
        {
          "output_type": "execute_result",
          "data": {
            "text/html": [
              "<div>\n",
              "<style scoped>\n",
              "    .dataframe tbody tr th:only-of-type {\n",
              "        vertical-align: middle;\n",
              "    }\n",
              "\n",
              "    .dataframe tbody tr th {\n",
              "        vertical-align: top;\n",
              "    }\n",
              "\n",
              "    .dataframe thead th {\n",
              "        text-align: right;\n",
              "    }\n",
              "</style>\n",
              "<table border=\"1\" class=\"dataframe\">\n",
              "  <thead>\n",
              "    <tr style=\"text-align: right;\">\n",
              "      <th></th>\n",
              "      <th>BsmtQual</th>\n",
              "      <th>GarageType</th>\n",
              "      <th>GarageQual</th>\n",
              "      <th>SalePrice</th>\n",
              "    </tr>\n",
              "  </thead>\n",
              "  <tbody>\n",
              "    <tr>\n",
              "      <th>0</th>\n",
              "      <td>Gd</td>\n",
              "      <td>Attchd</td>\n",
              "      <td>TA</td>\n",
              "      <td>208500</td>\n",
              "    </tr>\n",
              "    <tr>\n",
              "      <th>1</th>\n",
              "      <td>Gd</td>\n",
              "      <td>Attchd</td>\n",
              "      <td>TA</td>\n",
              "      <td>181500</td>\n",
              "    </tr>\n",
              "    <tr>\n",
              "      <th>2</th>\n",
              "      <td>Gd</td>\n",
              "      <td>Attchd</td>\n",
              "      <td>TA</td>\n",
              "      <td>223500</td>\n",
              "    </tr>\n",
              "    <tr>\n",
              "      <th>3</th>\n",
              "      <td>TA</td>\n",
              "      <td>Detchd</td>\n",
              "      <td>TA</td>\n",
              "      <td>140000</td>\n",
              "    </tr>\n",
              "    <tr>\n",
              "      <th>4</th>\n",
              "      <td>Gd</td>\n",
              "      <td>Attchd</td>\n",
              "      <td>TA</td>\n",
              "      <td>250000</td>\n",
              "    </tr>\n",
              "  </tbody>\n",
              "</table>\n",
              "</div>"
            ],
            "text/plain": [
              "  BsmtQual GarageType GarageQual  SalePrice\n",
              "0       Gd     Attchd         TA     208500\n",
              "1       Gd     Attchd         TA     181500\n",
              "2       Gd     Attchd         TA     223500\n",
              "3       TA     Detchd         TA     140000\n",
              "4       Gd     Attchd         TA     250000"
            ]
          },
          "metadata": {
            "tags": []
          },
          "execution_count": 2
        }
      ]
    },
    {
      "cell_type": "code",
      "metadata": {
        "id": "LDCYXGhDD4Yl",
        "colab": {
          "base_uri": "https://localhost:8080/",
          "height": 416
        },
        "outputId": "c1a794d9-0220-46c1-b18e-860f648fff6a"
      },
      "source": [
        "plt.title(\"Comparision of %tage null values\")\n",
        "df.isnull().mean().sort_values(ascending=True).plot.bar()\n",
        "df.isnull().mean().sort_values(ascending=True)"
      ],
      "execution_count": 3,
      "outputs": [
        {
          "output_type": "execute_result",
          "data": {
            "text/plain": [
              "SalePrice     0.000000\n",
              "BsmtQual      0.025342\n",
              "GarageType    0.055479\n",
              "GarageQual    0.055479\n",
              "dtype: float64"
            ]
          },
          "metadata": {
            "tags": []
          },
          "execution_count": 3
        },
        {
          "output_type": "display_data",
          "data": {
            "image/png": "[encoded data removed]",
            "text/plain": [
              "<Figure size 432x288 with 1 Axes>"
            ]
          },
          "metadata": {
            "tags": [],
            "needs_background": "light"
          }
        }
      ]
    },
    {
      "cell_type": "markdown",
      "metadata": {
        "id": "VEgRVbmfHr6o"
      },
      "source": [
        "# Storing Information about the Nan Value Location\n",
        "\n",
        "~ the process below is surely going to be curse of dimensionality later on i will handle it too"
      ]
    },
    {
      "cell_type": "code",
      "metadata": {
        "id": "4JS3imj2HrVS"
      },
      "source": [
        "def nan_inf(data,feature):\n",
        "  df[feature+'_Nan Information']=np.where(df[feature].isnull(),1,0)"
      ],
      "execution_count": 4,
      "outputs": []
    },
    {
      "cell_type": "code",
      "metadata": {
        "colab": {
          "base_uri": "https://localhost:8080/",
          "height": 204
        },
        "id": "HuzaQb6GILdt",
        "outputId": "e7e82706-1461-4071-a1e2-a99f2ae1583a"
      },
      "source": [
        "features_set=['GarageType','BsmtQual','GarageQual']\n",
        "for feature in features_set:\n",
        "  nan_inf(df,feature)\n",
        "df.head()"
      ],
      "execution_count": 5,
      "outputs": [
        {
          "output_type": "execute_result",
          "data": {
            "text/html": [
              "<div>\n",
              "<style scoped>\n",
              "    .dataframe tbody tr th:only-of-type {\n",
              "        vertical-align: middle;\n",
              "    }\n",
              "\n",
              "    .dataframe tbody tr th {\n",
              "        vertical-align: top;\n",
              "    }\n",
              "\n",
              "    .dataframe thead th {\n",
              "        text-align: right;\n",
              "    }\n",
              "</style>\n",
              "<table border=\"1\" class=\"dataframe\">\n",
              "  <thead>\n",
              "    <tr style=\"text-align: right;\">\n",
              "      <th></th>\n",
              "      <th>BsmtQual</th>\n",
              "      <th>GarageType</th>\n",
              "      <th>GarageQual</th>\n",
              "      <th>SalePrice</th>\n",
              "      <th>GarageType_Nan Information</th>\n",
              "      <th>BsmtQual_Nan Information</th>\n",
              "      <th>GarageQual_Nan Information</th>\n",
              "    </tr>\n",
              "  </thead>\n",
              "  <tbody>\n",
              "    <tr>\n",
              "      <th>0</th>\n",
              "      <td>Gd</td>\n",
              "      <td>Attchd</td>\n",
              "      <td>TA</td>\n",
              "      <td>208500</td>\n",
              "      <td>0</td>\n",
              "      <td>0</td>\n",
              "      <td>0</td>\n",
              "    </tr>\n",
              "    <tr>\n",
              "      <th>1</th>\n",
              "      <td>Gd</td>\n",
              "      <td>Attchd</td>\n",
              "      <td>TA</td>\n",
              "      <td>181500</td>\n",
              "      <td>0</td>\n",
              "      <td>0</td>\n",
              "      <td>0</td>\n",
              "    </tr>\n",
              "    <tr>\n",
              "      <th>2</th>\n",
              "      <td>Gd</td>\n",
              "      <td>Attchd</td>\n",
              "      <td>TA</td>\n",
              "      <td>223500</td>\n",
              "      <td>0</td>\n",
              "      <td>0</td>\n",
              "      <td>0</td>\n",
              "    </tr>\n",
              "    <tr>\n",
              "      <th>3</th>\n",
              "      <td>TA</td>\n",
              "      <td>Detchd</td>\n",
              "      <td>TA</td>\n",
              "      <td>140000</td>\n",
              "      <td>0</td>\n",
              "      <td>0</td>\n",
              "      <td>0</td>\n",
              "    </tr>\n",
              "    <tr>\n",
              "      <th>4</th>\n",
              "      <td>Gd</td>\n",
              "      <td>Attchd</td>\n",
              "      <td>TA</td>\n",
              "      <td>250000</td>\n",
              "      <td>0</td>\n",
              "      <td>0</td>\n",
              "      <td>0</td>\n",
              "    </tr>\n",
              "  </tbody>\n",
              "</table>\n",
              "</div>"
            ],
            "text/plain": [
              "  BsmtQual GarageType  ... BsmtQual_Nan Information  GarageQual_Nan Information\n",
              "0       Gd     Attchd  ...                        0                           0\n",
              "1       Gd     Attchd  ...                        0                           0\n",
              "2       Gd     Attchd  ...                        0                           0\n",
              "3       TA     Detchd  ...                        0                           0\n",
              "4       Gd     Attchd  ...                        0                           0\n",
              "\n",
              "[5 rows x 7 columns]"
            ]
          },
          "metadata": {
            "tags": []
          },
          "execution_count": 5
        }
      ]
    },
    {
      "cell_type": "code",
      "metadata": {
        "colab": {
          "base_uri": "https://localhost:8080/"
        },
        "id": "48DwnZ1AIpe4",
        "outputId": "cc1edaab-6873-422c-d209-f01d3d52a7e2"
      },
      "source": [
        "df['BsmtQual_Nan Information'].value_counts()"
      ],
      "execution_count": 6,
      "outputs": [
        {
          "output_type": "execute_result",
          "data": {
            "text/plain": [
              "0    1423\n",
              "1      37\n",
              "Name: BsmtQual_Nan Information, dtype: int64"
            ]
          },
          "metadata": {
            "tags": []
          },
          "execution_count": 6
        }
      ]
    },
    {
      "cell_type": "code",
      "metadata": {
        "colab": {
          "base_uri": "https://localhost:8080/",
          "height": 286
        },
        "id": "ZeOgKCWR-Opr",
        "outputId": "a7ed43e8-1e3d-4c46-90dd-b38451eee65e"
      },
      "source": [
        "df['BsmtQual'].value_counts().plot.bar()"
      ],
      "execution_count": 7,
      "outputs": [
        {
          "output_type": "execute_result",
          "data": {
            "text/plain": [
              "<matplotlib.axes._subplots.AxesSubplot at 0x7f4a282f2250>"
            ]
          },
          "metadata": {
            "tags": []
          },
          "execution_count": 7
        },
        {
          "output_type": "display_data",
          "data": {
            "image/png": "[encoded data removed]",
            "text/plain": [
              "<Figure size 432x288 with 1 Axes>"
            ]
          },
          "metadata": {
            "tags": [],
            "needs_background": "light"
          }
        }
      ]
    },
    {
      "cell_type": "code",
      "metadata": {
        "colab": {
          "base_uri": "https://localhost:8080/",
          "height": 317
        },
        "id": "63P-YNE--lD-",
        "outputId": "f8a78e9c-6269-4688-cdcd-1d83ad9300e9"
      },
      "source": [
        "df['GarageType'].value_counts().plot.bar()"
      ],
      "execution_count": 8,
      "outputs": [
        {
          "output_type": "execute_result",
          "data": {
            "text/plain": [
              "<matplotlib.axes._subplots.AxesSubplot at 0x7f4a27ceee50>"
            ]
          },
          "metadata": {
            "tags": []
          },
          "execution_count": 8
        },
        {
          "output_type": "display_data",
          "data": {
            "image/png": "[encoded data removed]",
            "text/plain": [
              "<Figure size 432x288 with 1 Axes>"
            ]
          },
          "metadata": {
            "tags": [],
            "needs_background": "light"
          }
        }
      ]
    },
    {
      "cell_type": "code",
      "metadata": {
        "colab": {
          "base_uri": "https://localhost:8080/",
          "height": 286
        },
        "id": "MVYsJGNR-2Ec",
        "outputId": "7450750b-4eee-4e59-930c-056dbe5f6b81"
      },
      "source": [
        "df['GarageQual'].value_counts().plot.bar()"
      ],
      "execution_count": 9,
      "outputs": [
        {
          "output_type": "execute_result",
          "data": {
            "text/plain": [
              "<matplotlib.axes._subplots.AxesSubplot at 0x7f4a27c6db50>"
            ]
          },
          "metadata": {
            "tags": []
          },
          "execution_count": 9
        },
        {
          "output_type": "display_data",
          "data": {
            "image/png": "[encoded data removed]",
            "text/plain": [
              "<Figure size 432x288 with 1 Axes>"
            ]
          },
          "metadata": {
            "tags": [],
            "needs_background": "light"
          }
        }
      ]
    },
    {
      "cell_type": "markdown",
      "metadata": {
        "id": "v0anUlXY_QzL"
      },
      "source": [
        "**For the first categorical missing value handling we will be replacing the nan value with the most frequenctly occuring category.**\n",
        "\n",
        "# **Frequent value imputation**\n",
        "\n",
        "for this we will use the BsmtQual column"
      ]
    },
    {
      "cell_type": "code",
      "metadata": {
        "id": "7MMrAvqB_d5D"
      },
      "source": [
        "df.BsmtQual.fillna(df.BsmtQual.value_counts().sort_values(ascending=False).index[0],inplace=True)\n",
        "#df.GarageQual.fillna(df.GarageQual.value_counts().sort_values(ascending=False).index[0],inplace=True)\n",
        "#df.GarageType.fillna(df.GarageType.value_counts().sort_values(ascending=False).index[0],inplace=True)\n",
        "#also we can use the mode command"
      ],
      "execution_count": 10,
      "outputs": []
    },
    {
      "cell_type": "code",
      "metadata": {
        "colab": {
          "base_uri": "https://localhost:8080/",
          "height": 35
        },
        "id": "hDiHFwOKB9Y0",
        "outputId": "e4321933-6013-4640-bf42-39f1998b2ea0"
      },
      "source": [
        "df.GarageType.mode()[0]"
      ],
      "execution_count": 11,
      "outputs": [
        {
          "output_type": "execute_result",
          "data": {
            "application/vnd.google.colaboratory.intrinsic+json": {
              "type": "string"
            },
            "text/plain": [
              "'Attchd'"
            ]
          },
          "metadata": {
            "tags": []
          },
          "execution_count": 11
        }
      ]
    },
    {
      "cell_type": "code",
      "metadata": {
        "colab": {
          "base_uri": "https://localhost:8080/"
        },
        "id": "-g4MNhoR_yuo",
        "outputId": "bd956160-bfa9-408f-9a35-14c3353e1991"
      },
      "source": [
        "df.isnull().mean()"
      ],
      "execution_count": 12,
      "outputs": [
        {
          "output_type": "execute_result",
          "data": {
            "text/plain": [
              "BsmtQual                      0.000000\n",
              "GarageType                    0.055479\n",
              "GarageQual                    0.055479\n",
              "SalePrice                     0.000000\n",
              "GarageType_Nan Information    0.000000\n",
              "BsmtQual_Nan Information      0.000000\n",
              "GarageQual_Nan Information    0.000000\n",
              "dtype: float64"
            ]
          },
          "metadata": {
            "tags": []
          },
          "execution_count": 12
        }
      ]
    },
    {
      "cell_type": "markdown",
      "metadata": {
        "id": "IwWZTVCOCvga"
      },
      "source": [
        "***As we have seen the missing value were not more than 20% for any case. So replacing with frequenct charecter is completely ok.***"
      ]
    },
    {
      "cell_type": "markdown",
      "metadata": {
        "id": "n29cSJUZGs8Q"
      },
      "source": [
        "# Replacing nan with new feature"
      ]
    },
    {
      "cell_type": "code",
      "metadata": {
        "colab": {
          "base_uri": "https://localhost:8080/"
        },
        "id": "LJJKvwIwBgCK",
        "outputId": "56037003-4d8f-4b26-cb1a-aa7385b609a6"
      },
      "source": [
        "df.GarageQual.fillna(\"Missing\",inplace=True)\n",
        "df.GarageQual.value_counts()"
      ],
      "execution_count": 13,
      "outputs": [
        {
          "output_type": "execute_result",
          "data": {
            "text/plain": [
              "TA         1311\n",
              "Missing      81\n",
              "Fa           48\n",
              "Gd           14\n",
              "Po            3\n",
              "Ex            3\n",
              "Name: GarageQual, dtype: int64"
            ]
          },
          "metadata": {
            "tags": []
          },
          "execution_count": 13
        }
      ]
    },
    {
      "cell_type": "markdown",
      "metadata": {
        "id": "5yAhPdy_KFgo"
      },
      "source": [
        "### **My own designed efficient way of storing the nan values**\n",
        "\n",
        "Use a column to store nan information of entire dataset by replacing the location of nan in the new column by sum of the null value of the column and for n columns having nan at same row use null count of all column and add them to fill the nan information column."
      ]
    },
    {
      "cell_type": "code",
      "metadata": {
        "colab": {
          "base_uri": "https://localhost:8080/",
          "height": 204
        },
        "id": "gVpge-zmKFD7",
        "outputId": "e91d2c60-e028-475e-f808-a2c2dcc37d94"
      },
      "source": [
        "df=pd.read_csv(\"/content/drive/MyDrive/DataSets/advance house prediction data.csv\",usecols=['GarageType','BsmtQual','GarageQual','SalePrice'])\n",
        "df.head()"
      ],
      "execution_count": 14,
      "outputs": [
        {
          "output_type": "execute_result",
          "data": {
            "text/html": [
              "<div>\n",
              "<style scoped>\n",
              "    .dataframe tbody tr th:only-of-type {\n",
              "        vertical-align: middle;\n",
              "    }\n",
              "\n",
              "    .dataframe tbody tr th {\n",
              "        vertical-align: top;\n",
              "    }\n",
              "\n",
              "    .dataframe thead th {\n",
              "        text-align: right;\n",
              "    }\n",
              "</style>\n",
              "<table border=\"1\" class=\"dataframe\">\n",
              "  <thead>\n",
              "    <tr style=\"text-align: right;\">\n",
              "      <th></th>\n",
              "      <th>BsmtQual</th>\n",
              "      <th>GarageType</th>\n",
              "      <th>GarageQual</th>\n",
              "      <th>SalePrice</th>\n",
              "    </tr>\n",
              "  </thead>\n",
              "  <tbody>\n",
              "    <tr>\n",
              "      <th>0</th>\n",
              "      <td>Gd</td>\n",
              "      <td>Attchd</td>\n",
              "      <td>TA</td>\n",
              "      <td>208500</td>\n",
              "    </tr>\n",
              "    <tr>\n",
              "      <th>1</th>\n",
              "      <td>Gd</td>\n",
              "      <td>Attchd</td>\n",
              "      <td>TA</td>\n",
              "      <td>181500</td>\n",
              "    </tr>\n",
              "    <tr>\n",
              "      <th>2</th>\n",
              "      <td>Gd</td>\n",
              "      <td>Attchd</td>\n",
              "      <td>TA</td>\n",
              "      <td>223500</td>\n",
              "    </tr>\n",
              "    <tr>\n",
              "      <th>3</th>\n",
              "      <td>TA</td>\n",
              "      <td>Detchd</td>\n",
              "      <td>TA</td>\n",
              "      <td>140000</td>\n",
              "    </tr>\n",
              "    <tr>\n",
              "      <th>4</th>\n",
              "      <td>Gd</td>\n",
              "      <td>Attchd</td>\n",
              "      <td>TA</td>\n",
              "      <td>250000</td>\n",
              "    </tr>\n",
              "  </tbody>\n",
              "</table>\n",
              "</div>"
            ],
            "text/plain": [
              "  BsmtQual GarageType GarageQual  SalePrice\n",
              "0       Gd     Attchd         TA     208500\n",
              "1       Gd     Attchd         TA     181500\n",
              "2       Gd     Attchd         TA     223500\n",
              "3       TA     Detchd         TA     140000\n",
              "4       Gd     Attchd         TA     250000"
            ]
          },
          "metadata": {
            "tags": []
          },
          "execution_count": 14
        }
      ]
    },
    {
      "cell_type": "code",
      "metadata": {
        "colab": {
          "base_uri": "https://localhost:8080/"
        },
        "id": "LOfl4ZqPPBam",
        "outputId": "7b00be22-6656-47f7-a1e0-bf4a41841ab0"
      },
      "source": [
        "df['BsmtQual'][17]!=df['BsmtQual'][17]"
      ],
      "execution_count": 30,
      "outputs": [
        {
          "output_type": "execute_result",
          "data": {
            "text/plain": [
              "True"
            ]
          },
          "metadata": {
            "tags": []
          },
          "execution_count": 30
        }
      ]
    },
    {
      "cell_type": "code",
      "metadata": {
        "id": "XevQgfa_HBvf"
      },
      "source": [
        "def isNaN(val):\n",
        "  return val!=val"
      ],
      "execution_count": 31,
      "outputs": []
    },
    {
      "cell_type": "code",
      "metadata": {
        "id": "3qhtgwdJLIsb"
      },
      "source": [
        "def nan_func(data,features):\n",
        "  data['Nan_Information']=np.zeros(len(data))\n",
        "  for feat in features:\n",
        "    for i in range(len(data)):\n",
        "      if isNaN(data[feat][i]):\n",
        "        # print(True)\n",
        "        data['Nan_Information'][i]+=data[feat].isnull().mean()"
      ],
      "execution_count": 34,
      "outputs": []
    },
    {
      "cell_type": "code",
      "metadata": {
        "colab": {
          "base_uri": "https://localhost:8080/",
          "height": 444
        },
        "id": "FDAp1oRYNH2z",
        "outputId": "bbfcae77-721a-4db9-e2e8-16ca80f89eda"
      },
      "source": [
        "nan_func(df,['GarageType','BsmtQual','GarageQual'])\n",
        "df[75:85]"
      ],
      "execution_count": 40,
      "outputs": [
        {
          "output_type": "stream",
          "text": [
            "/usr/local/lib/python3.7/dist-packages/ipykernel_launcher.py:7: SettingWithCopyWarning: \n",
            "A value is trying to be set on a copy of a slice from a DataFrame\n",
            "\n",
            "See the caveats in the documentation: https://pandas.pydata.org/pandas-docs/stable/user_guide/indexing.html#returning-a-view-versus-a-copy\n",
            "  import sys\n"
          ],
          "name": "stderr"
        },
        {
          "output_type": "execute_result",
          "data": {
            "text/html": [
              "<div>\n",
              "<style scoped>\n",
              "    .dataframe tbody tr th:only-of-type {\n",
              "        vertical-align: middle;\n",
              "    }\n",
              "\n",
              "    .dataframe tbody tr th {\n",
              "        vertical-align: top;\n",
              "    }\n",
              "\n",
              "    .dataframe thead th {\n",
              "        text-align: right;\n",
              "    }\n",
              "</style>\n",
              "<table border=\"1\" class=\"dataframe\">\n",
              "  <thead>\n",
              "    <tr style=\"text-align: right;\">\n",
              "      <th></th>\n",
              "      <th>BsmtQual</th>\n",
              "      <th>GarageType</th>\n",
              "      <th>GarageQual</th>\n",
              "      <th>SalePrice</th>\n",
              "      <th>Nan_Information</th>\n",
              "    </tr>\n",
              "  </thead>\n",
              "  <tbody>\n",
              "    <tr>\n",
              "      <th>75</th>\n",
              "      <td>Gd</td>\n",
              "      <td>BuiltIn</td>\n",
              "      <td>TA</td>\n",
              "      <td>91000</td>\n",
              "      <td>0.000000</td>\n",
              "    </tr>\n",
              "    <tr>\n",
              "      <th>76</th>\n",
              "      <td>TA</td>\n",
              "      <td>Detchd</td>\n",
              "      <td>TA</td>\n",
              "      <td>135750</td>\n",
              "      <td>0.000000</td>\n",
              "    </tr>\n",
              "    <tr>\n",
              "      <th>77</th>\n",
              "      <td>TA</td>\n",
              "      <td>Detchd</td>\n",
              "      <td>TA</td>\n",
              "      <td>127000</td>\n",
              "      <td>0.000000</td>\n",
              "    </tr>\n",
              "    <tr>\n",
              "      <th>78</th>\n",
              "      <td>TA</td>\n",
              "      <td>NaN</td>\n",
              "      <td>NaN</td>\n",
              "      <td>136500</td>\n",
              "      <td>0.110959</td>\n",
              "    </tr>\n",
              "    <tr>\n",
              "      <th>79</th>\n",
              "      <td>TA</td>\n",
              "      <td>Detchd</td>\n",
              "      <td>TA</td>\n",
              "      <td>110000</td>\n",
              "      <td>0.000000</td>\n",
              "    </tr>\n",
              "    <tr>\n",
              "      <th>80</th>\n",
              "      <td>Gd</td>\n",
              "      <td>Attchd</td>\n",
              "      <td>TA</td>\n",
              "      <td>193500</td>\n",
              "      <td>0.000000</td>\n",
              "    </tr>\n",
              "    <tr>\n",
              "      <th>81</th>\n",
              "      <td>Ex</td>\n",
              "      <td>Attchd</td>\n",
              "      <td>TA</td>\n",
              "      <td>153500</td>\n",
              "      <td>0.000000</td>\n",
              "    </tr>\n",
              "    <tr>\n",
              "      <th>82</th>\n",
              "      <td>Gd</td>\n",
              "      <td>Attchd</td>\n",
              "      <td>TA</td>\n",
              "      <td>245000</td>\n",
              "      <td>0.000000</td>\n",
              "    </tr>\n",
              "    <tr>\n",
              "      <th>83</th>\n",
              "      <td>TA</td>\n",
              "      <td>Detchd</td>\n",
              "      <td>TA</td>\n",
              "      <td>126500</td>\n",
              "      <td>0.000000</td>\n",
              "    </tr>\n",
              "    <tr>\n",
              "      <th>84</th>\n",
              "      <td>Gd</td>\n",
              "      <td>BuiltIn</td>\n",
              "      <td>TA</td>\n",
              "      <td>168500</td>\n",
              "      <td>0.000000</td>\n",
              "    </tr>\n",
              "  </tbody>\n",
              "</table>\n",
              "</div>"
            ],
            "text/plain": [
              "   BsmtQual GarageType GarageQual  SalePrice  Nan_Information\n",
              "75       Gd    BuiltIn         TA      91000         0.000000\n",
              "76       TA     Detchd         TA     135750         0.000000\n",
              "77       TA     Detchd         TA     127000         0.000000\n",
              "78       TA        NaN        NaN     136500         0.110959\n",
              "79       TA     Detchd         TA     110000         0.000000\n",
              "80       Gd     Attchd         TA     193500         0.000000\n",
              "81       Ex     Attchd         TA     153500         0.000000\n",
              "82       Gd     Attchd         TA     245000         0.000000\n",
              "83       TA     Detchd         TA     126500         0.000000\n",
              "84       Gd    BuiltIn         TA     168500         0.000000"
            ]
          },
          "metadata": {
            "tags": []
          },
          "execution_count": 40
        }
      ]
    },
    {
      "cell_type": "code",
      "metadata": {
        "colab": {
          "base_uri": "https://localhost:8080/"
        },
        "id": "bvCWRhlfNfGF",
        "outputId": "fa69a21b-2e75-46ef-db84-90dc350e422d"
      },
      "source": [
        "df.Nan_Information.value_counts()"
      ],
      "execution_count": 41,
      "outputs": [
        {
          "output_type": "execute_result",
          "data": {
            "text/plain": [
              "0.000000    1349\n",
              "0.110959      74\n",
              "0.025342      30\n",
              "0.136301       7\n",
              "Name: Nan_Information, dtype: int64"
            ]
          },
          "metadata": {
            "tags": []
          },
          "execution_count": 41
        }
      ]
    },
    {
      "cell_type": "code",
      "metadata": {
        "colab": {
          "base_uri": "https://localhost:8080/"
        },
        "id": "zMwcNhrHIA2J",
        "outputId": "6f0b4655-6040-4b16-b7a3-84ff0019999f"
      },
      "source": [
        "df.isnull().mean()"
      ],
      "execution_count": 42,
      "outputs": [
        {
          "output_type": "execute_result",
          "data": {
            "text/plain": [
              "BsmtQual           0.025342\n",
              "GarageType         0.055479\n",
              "GarageQual         0.055479\n",
              "SalePrice          0.000000\n",
              "Nan_Information    0.000000\n",
              "dtype: float64"
            ]
          },
          "metadata": {
            "tags": []
          },
          "execution_count": 42
        }
      ]
    },
    {
      "cell_type": "markdown",
      "metadata": {
        "id": "mZQomzRLII3_"
      },
      "source": [
        "An observation can be made from this process. Wherever the GarageQual is absent GarageType is also absent. \n",
        "\n",
        "This process can also provide us a hint about mcar mar mnar"
      ]
    }
  ]
}